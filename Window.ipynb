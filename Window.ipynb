{
 "cells": [
  {
   "cell_type": "code",
   "execution_count": 1,
   "metadata": {},
   "outputs": [],
   "source": [
    "import tkinter as tk\n",
    "from tkinter import filedialog\n",
    "from tkinter.filedialog import askopenfile\n",
    "from PIL import Image, ImageTk\n",
    "window = tk.Tk()\n",
    "window.geometry(\"550x400\")  # Size of the window\n",
    "window.title('User Profile Image Browser')\n",
    "my_font=('times', 14, 'bold')\n",
    "l1 = tk.Label(window,text='Load User Profile Image:',width=45,font=my_font)\n",
    "l1.grid(row=1,column=1)\n",
    "b1 = tk.Button(window, text='Upload User Profile Pic:',\n",
    "   width=20,command = lambda:upload_user_file())\n",
    "b1.grid(row=2,column=1)\n",
    "def upload_user_file():\n",
    "    global user_img\n",
    "    user_files_types = [('Jpg Files', '*.jpg'),('PNG Files','*.png')]\n",
    "    filename = filedialog.askopenfilename(filetypes=user_files_types)\n",
    "    user_img=Image.open(filename)\n",
    "    img_resized=user_img.resize((400,250)) # new width & height\n",
    "    user_img=ImageTk.PhotoImage(img_resized)\n",
    "    b2 =tk.Button(window,image=user_img) # using Button\n",
    "    b2.grid(row=3,column=1)\n",
    "window.mainloop()  # Keep the window open\n"
   ]
  }
 ],
 "metadata": {
  "kernelspec": {
   "display_name": "Python 3.9.12 64-bit ('miniconda3')",
   "language": "python",
   "name": "python3"
  },
  "language_info": {
   "codemirror_mode": {
    "name": "ipython",
    "version": 3
   },
   "file_extension": ".py",
   "mimetype": "text/x-python",
   "name": "python",
   "nbconvert_exporter": "python",
   "pygments_lexer": "ipython3",
   "version": "3.9.12"
  },
  "orig_nbformat": 4,
  "vscode": {
   "interpreter": {
    "hash": "c0e57b10da25daa2bb122dd2709a2b7224f5bd386e0254d7403976d17b5f17a7"
   }
  }
 },
 "nbformat": 4,
 "nbformat_minor": 2
}
